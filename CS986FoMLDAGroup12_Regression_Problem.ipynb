{
 "cells": [
  {
   "cell_type": "markdown",
   "metadata": {},
   "source": [
    "# Regression Problem"
   ]
  },
  {
   "cell_type": "markdown",
   "metadata": {},
   "source": [
    "The aim of the Regression problem is to predict the popularity score of a song using the Spotify data"
   ]
  },
  {
   "cell_type": "markdown",
   "metadata": {},
   "source": [
    "Importing the neccessary libraries"
   ]
  },
  {
   "cell_type": "code",
   "execution_count": 1,
   "metadata": {},
   "outputs": [],
   "source": [
    "import pandas as pd\n",
    "import numpy as np\n",
    "import seaborn as sns\n",
    "import matplotlib.pyplot as plt\n",
    "\n",
    "from pandas.plotting import scatter_matrix\n",
    "from sklearn.preprocessing import LabelEncoder\n",
    "from sklearn.preprocessing import OneHotEncoder\n",
    "from sklearn.ensemble import RandomForestRegressor\n",
    "from sklearn.metrics import accuracy_score\n",
    "from sklearn.metrics import mean_squared_error\n",
    "from sklearn.svm import LinearSVR\n",
    "from sklearn.svm import SVR\n",
    "from sklearn.preprocessing import StandardScaler\n",
    "from sklearn.preprocessing import MinMaxScaler\n",
    "from sklearn import preprocessing\n",
    "\n",
    "%matplotlib inline"
   ]
  },
  {
   "cell_type": "markdown",
   "metadata": {},
   "source": [
    "### Data Handling"
   ]
  },
  {
   "cell_type": "markdown",
   "metadata": {},
   "source": [
    "#### Importing Spotify Data"
   ]
  },
  {
   "cell_type": "code",
   "execution_count": 2,
   "metadata": {},
   "outputs": [],
   "source": [
    "data_train = pd.read_csv('CS98XRegressionTrain.csv')"
   ]
  },
  {
   "cell_type": "markdown",
   "metadata": {},
   "source": [
    "#### Let's take a look of the Regression Train dataset"
   ]
  },
  {
   "cell_type": "markdown",
   "metadata": {},
   "source": [
    "Show an overview of the Regression Train dataset"
   ]
  },
  {
   "cell_type": "code",
   "execution_count": 3,
   "metadata": {},
   "outputs": [
    {
     "data": {
      "text/html": [
       "<div>\n",
       "<style scoped>\n",
       "    .dataframe tbody tr th:only-of-type {\n",
       "        vertical-align: middle;\n",
       "    }\n",
       "\n",
       "    .dataframe tbody tr th {\n",
       "        vertical-align: top;\n",
       "    }\n",
       "\n",
       "    .dataframe thead th {\n",
       "        text-align: right;\n",
       "    }\n",
       "</style>\n",
       "<table border=\"1\" class=\"dataframe\">\n",
       "  <thead>\n",
       "    <tr style=\"text-align: right;\">\n",
       "      <th></th>\n",
       "      <th>Id</th>\n",
       "      <th>title</th>\n",
       "      <th>artist</th>\n",
       "      <th>top genre</th>\n",
       "      <th>year</th>\n",
       "      <th>bpm</th>\n",
       "      <th>nrgy</th>\n",
       "      <th>dnce</th>\n",
       "      <th>dB</th>\n",
       "      <th>live</th>\n",
       "      <th>val</th>\n",
       "      <th>dur</th>\n",
       "      <th>acous</th>\n",
       "      <th>spch</th>\n",
       "      <th>pop</th>\n",
       "    </tr>\n",
       "  </thead>\n",
       "  <tbody>\n",
       "    <tr>\n",
       "      <th>0</th>\n",
       "      <td>1</td>\n",
       "      <td>My Happiness</td>\n",
       "      <td>Connie Francis</td>\n",
       "      <td>adult standards</td>\n",
       "      <td>1996</td>\n",
       "      <td>107</td>\n",
       "      <td>31</td>\n",
       "      <td>45</td>\n",
       "      <td>-8</td>\n",
       "      <td>13</td>\n",
       "      <td>28</td>\n",
       "      <td>150</td>\n",
       "      <td>75</td>\n",
       "      <td>3</td>\n",
       "      <td>44</td>\n",
       "    </tr>\n",
       "    <tr>\n",
       "      <th>1</th>\n",
       "      <td>2</td>\n",
       "      <td>Unchained Melody</td>\n",
       "      <td>The Teddy Bears</td>\n",
       "      <td>NaN</td>\n",
       "      <td>2011</td>\n",
       "      <td>114</td>\n",
       "      <td>44</td>\n",
       "      <td>53</td>\n",
       "      <td>-8</td>\n",
       "      <td>13</td>\n",
       "      <td>47</td>\n",
       "      <td>139</td>\n",
       "      <td>49</td>\n",
       "      <td>3</td>\n",
       "      <td>37</td>\n",
       "    </tr>\n",
       "    <tr>\n",
       "      <th>2</th>\n",
       "      <td>3</td>\n",
       "      <td>How Deep Is Your Love</td>\n",
       "      <td>Bee Gees</td>\n",
       "      <td>adult standards</td>\n",
       "      <td>1979</td>\n",
       "      <td>105</td>\n",
       "      <td>36</td>\n",
       "      <td>63</td>\n",
       "      <td>-9</td>\n",
       "      <td>13</td>\n",
       "      <td>67</td>\n",
       "      <td>245</td>\n",
       "      <td>11</td>\n",
       "      <td>3</td>\n",
       "      <td>77</td>\n",
       "    </tr>\n",
       "    <tr>\n",
       "      <th>3</th>\n",
       "      <td>4</td>\n",
       "      <td>Woman in Love</td>\n",
       "      <td>Barbra Streisand</td>\n",
       "      <td>adult standards</td>\n",
       "      <td>1980</td>\n",
       "      <td>170</td>\n",
       "      <td>28</td>\n",
       "      <td>47</td>\n",
       "      <td>-16</td>\n",
       "      <td>13</td>\n",
       "      <td>33</td>\n",
       "      <td>232</td>\n",
       "      <td>25</td>\n",
       "      <td>3</td>\n",
       "      <td>67</td>\n",
       "    </tr>\n",
       "    <tr>\n",
       "      <th>4</th>\n",
       "      <td>5</td>\n",
       "      <td>Goodbye Yellow Brick Road - Remastered 2014</td>\n",
       "      <td>Elton John</td>\n",
       "      <td>glam rock</td>\n",
       "      <td>1973</td>\n",
       "      <td>121</td>\n",
       "      <td>47</td>\n",
       "      <td>56</td>\n",
       "      <td>-8</td>\n",
       "      <td>15</td>\n",
       "      <td>40</td>\n",
       "      <td>193</td>\n",
       "      <td>45</td>\n",
       "      <td>3</td>\n",
       "      <td>63</td>\n",
       "    </tr>\n",
       "  </tbody>\n",
       "</table>\n",
       "</div>"
      ],
      "text/plain": [
       "   Id                                        title            artist  \\\n",
       "0   1                                 My Happiness    Connie Francis   \n",
       "1   2                             Unchained Melody   The Teddy Bears   \n",
       "2   3                        How Deep Is Your Love          Bee Gees   \n",
       "3   4                                Woman in Love  Barbra Streisand   \n",
       "4   5  Goodbye Yellow Brick Road - Remastered 2014        Elton John   \n",
       "\n",
       "         top genre  year  bpm  nrgy  dnce  dB  live  val  dur  acous  spch  \\\n",
       "0  adult standards  1996  107    31    45  -8    13   28  150     75     3   \n",
       "1              NaN  2011  114    44    53  -8    13   47  139     49     3   \n",
       "2  adult standards  1979  105    36    63  -9    13   67  245     11     3   \n",
       "3  adult standards  1980  170    28    47 -16    13   33  232     25     3   \n",
       "4        glam rock  1973  121    47    56  -8    15   40  193     45     3   \n",
       "\n",
       "   pop  \n",
       "0   44  \n",
       "1   37  \n",
       "2   77  \n",
       "3   67  \n",
       "4   63  "
      ]
     },
     "execution_count": 3,
     "metadata": {},
     "output_type": "execute_result"
    }
   ],
   "source": [
    "data_train.head()"
   ]
  },
  {
   "cell_type": "markdown",
   "metadata": {},
   "source": [
    "Above is a summary of our data contained in a Pandas DataFrame, having a quite a bit of information. It can be seen that we have 453 observations to analyze."
   ]
  },
  {
   "cell_type": "code",
   "execution_count": 4,
   "metadata": {},
   "outputs": [
    {
     "name": "stdout",
     "output_type": "stream",
     "text": [
      "<class 'pandas.core.frame.DataFrame'>\n",
      "RangeIndex: 453 entries, 0 to 452\n",
      "Data columns (total 15 columns):\n",
      " #   Column     Non-Null Count  Dtype \n",
      "---  ------     --------------  ----- \n",
      " 0   Id         453 non-null    int64 \n",
      " 1   title      453 non-null    object\n",
      " 2   artist     453 non-null    object\n",
      " 3   top genre  438 non-null    object\n",
      " 4   year       453 non-null    int64 \n",
      " 5   bpm        453 non-null    int64 \n",
      " 6   nrgy       453 non-null    int64 \n",
      " 7   dnce       453 non-null    int64 \n",
      " 8   dB         453 non-null    int64 \n",
      " 9   live       453 non-null    int64 \n",
      " 10  val        453 non-null    int64 \n",
      " 11  dur        453 non-null    int64 \n",
      " 12  acous      453 non-null    int64 \n",
      " 13  spch       453 non-null    int64 \n",
      " 14  pop        453 non-null    int64 \n",
      "dtypes: int64(12), object(3)\n",
      "memory usage: 53.2+ KB\n"
     ]
    }
   ],
   "source": [
    "data_train.info()"
   ]
  },
  {
   "cell_type": "markdown",
   "metadata": {},
   "source": [
    "* There are 453 instances in the dataset, indicating that it is a very small dataset for Machine Learning\n",
    "* All attributes are numerical except of tittle, artist and top genre.\n",
    "* There are missing values in top genre column"
   ]
  },
  {
   "cell_type": "markdown",
   "metadata": {},
   "source": [
    "Looking at the statistics of the dataset"
   ]
  },
  {
   "cell_type": "code",
   "execution_count": 5,
   "metadata": {},
   "outputs": [
    {
     "data": {
      "text/plain": [
       "count    453.000000\n",
       "mean      60.743929\n",
       "std       13.470083\n",
       "min       26.000000\n",
       "25%       53.000000\n",
       "50%       63.000000\n",
       "75%       71.000000\n",
       "max       84.000000\n",
       "Name: pop, dtype: float64"
      ]
     },
     "execution_count": 5,
     "metadata": {},
     "output_type": "execute_result"
    }
   ],
   "source": [
    "pop = data_train[\"pop\"]\n",
    "pop.describe()"
   ]
  },
  {
   "cell_type": "markdown",
   "metadata": {},
   "source": [
    "#### Exploring Data through Visualizations"
   ]
  },
  {
   "cell_type": "markdown",
   "metadata": {},
   "source": [
    "Calculating correlation coefficients for all attributes against popularity score"
   ]
  },
  {
   "cell_type": "code",
   "execution_count": 6,
   "metadata": {},
   "outputs": [
    {
     "data": {
      "text/plain": [
       "pop      1.000000\n",
       "dur      0.363266\n",
       "dB       0.316854\n",
       "nrgy     0.303797\n",
       "dnce     0.258670\n",
       "spch     0.130955\n",
       "Id       0.086837\n",
       "bpm      0.055024\n",
       "val     -0.018713\n",
       "live    -0.051364\n",
       "year    -0.054293\n",
       "acous   -0.465875\n",
       "Name: pop, dtype: float64"
      ]
     },
     "execution_count": 6,
     "metadata": {},
     "output_type": "execute_result"
    }
   ],
   "source": [
    "corr_matrix = data_train.corr()\n",
    "corr_matrix\n",
    "corr_matrix[\"pop\"].sort_values(ascending=False)"
   ]
  },
  {
   "cell_type": "markdown",
   "metadata": {},
   "source": [
    "There is no strong correlation between popularity score and any other particular feature"
   ]
  },
  {
   "cell_type": "markdown",
   "metadata": {},
   "source": [
    "#### Heat map visualisation for the correlations"
   ]
  },
  {
   "cell_type": "code",
   "execution_count": 7,
   "metadata": {},
   "outputs": [
    {
     "data": {
      "image/png": "[encoded data removed]",
      "text/plain": [
       "<Figure size 792x1080 with 2 Axes>"
      ]
     },
     "metadata": {
      "needs_background": "light"
     },
     "output_type": "display_data"
    }
   ],
   "source": [
    "def corr_heatmap(data):\n",
    "    corr_matrix = data.corr()\n",
    "    mask = np.zeros_like(corr_matrix, dtype=np.bool)\n",
    "    mask[np.triu_indices_from(mask)]= True\n",
    "    f, ax = plt.subplots(figsize=(11, 15)) \n",
    "    heatmap = sns.heatmap(corr_matrix, \n",
    "                          mask = mask,\n",
    "                          square = True,\n",
    "                          linewidths = .5,\n",
    "                          cmap = 'coolwarm',\n",
    "                          cbar_kws = {'shrink': .4, \n",
    "                                    'ticks' : [-1, -.5, 0, 0.5, 1]},\n",
    "                          vmin = -1, \n",
    "                          vmax = 1,\n",
    "                          annot = True,\n",
    "                          annot_kws = {'size': 12}) #add the column names as labels\n",
    "    ax.set_yticklabels(corr_matrix.columns, rotation = 0)\n",
    "    ax.set_xticklabels(corr_matrix.columns)\n",
    "    sns.set_style({'xtick.bottom': True}, {'ytick.left': True})\n",
    "    \n",
    "corr_heatmap(data_train)"
   ]
  },
  {
   "cell_type": "markdown",
   "metadata": {},
   "source": [
    "* Looking the correlation heat map above we can see that the strongest correlation is between decibel (dB) and energy (nrgy) of the songs\n",
    "* The least correlated attributes are acousticness (acous) and energy (nrgy)\n",
    "* From this heatmap we estimate a non-linear model is the ideal model for the regression analysis"
   ]
  },
  {
   "cell_type": "markdown",
   "metadata": {},
   "source": [
    "#### Data cleaning and Preparation"
   ]
  },
  {
   "cell_type": "code",
   "execution_count": 9,
   "metadata": {},
   "outputs": [
    {
     "data": {
      "text/plain": [
       "Id            0\n",
       "title         0\n",
       "artist        0\n",
       "top genre    15\n",
       "year          0\n",
       "bpm           0\n",
       "nrgy          0\n",
       "dnce          0\n",
       "dB            0\n",
       "live          0\n",
       "val           0\n",
       "dur           0\n",
       "acous         0\n",
       "spch          0\n",
       "pop           0\n",
       "dtype: int64"
      ]
     },
     "execution_count": 9,
     "metadata": {},
     "output_type": "execute_result"
    }
   ],
   "source": [
    "data_train.isnull().sum()"
   ]
  },
  {
   "cell_type": "markdown",
   "metadata": {},
   "source": [
    "There are 15 missing values in the top genre column. To handle this, we will subsitute the median of the dataset.\n",
    "\n",
    "To do that, we use the line of code below:"
   ]
  },
  {
   "cell_type": "code",
   "execution_count": 10,
   "metadata": {},
   "outputs": [],
   "source": [
    "data_train.fillna(0)\n",
    "data_train1=data_train.describe()"
   ]
  },
  {
   "cell_type": "code",
   "execution_count": 11,
   "metadata": {},
   "outputs": [
    {
     "data": {
      "text/plain": [
       "0    adult standards\n",
       "2    adult standards\n",
       "3    adult standards\n",
       "4          glam rock\n",
       "5                pop\n",
       "Name: top genre, dtype: object"
      ]
     },
     "execution_count": 11,
     "metadata": {},
     "output_type": "execute_result"
    }
   ],
   "source": [
    "data_train1 = data_train\n",
    "data_train1.dropna(subset = [\"top genre\"], inplace=True)\n",
    "top_genre = data_train1[\"top genre\"]\n",
    "\n",
    "top_genre.head()"
   ]
  },
  {
   "cell_type": "markdown",
   "metadata": {},
   "source": [
    "Then, we found the unique song genres"
   ]
  },
  {
   "cell_type": "code",
   "execution_count": 12,
   "metadata": {},
   "outputs": [
    {
     "data": {
      "text/plain": [
       "array(['adult standards', 'glam rock', 'pop', 'album rock', 'boy band',\n",
       "       'brill building pop', 'rock-and-roll', 'country rock',\n",
       "       'canadian pop', 'dance pop', 'europop', 'bebop', 'art rock',\n",
       "       'disco', 'blues', 'barbadian pop', 'deep adult standards',\n",
       "       'deep house', 'atl hip hop', 'dance rock', 'disco house',\n",
       "       'bubblegum dance', 'classic soul', 'classic uk pop',\n",
       "       'east coast hip hop', 'doo-wop', 'britpop', 'british blues',\n",
       "       'soft rock', 'australian talent show', 'art pop', 'british soul',\n",
       "       'british invasion', 'belgian pop', 'big room', 'german dance',\n",
       "       'italian pop', 'british folk', 'brit funk', 'chicago soul',\n",
       "       'neo mellow', 'british comedy', 'hip hop', 'new wave pop',\n",
       "       'eurodance', 'detroit hip hop', 'classic rock', 'uk garage',\n",
       "       'afrobeat', 'r&b', 'chicago rap', 'classic danish pop',\n",
       "       'british dance band', 'drone folk', 'permanent wave', 'merseybeat',\n",
       "       'g funk', 'blues rock', 'celtic rock', 'bow pop',\n",
       "       'australian rock', 'boogaloo', 'alternative metal',\n",
       "       'belgian dance', 'glam metal', 'latin', 'baroque pop',\n",
       "       'bubble trance', 'canadian folk', 'american folk revival',\n",
       "       'country', 'chanson', 'bubblegum pop', 'classic girl group',\n",
       "       'yodeling', 'afropop', 'hi-nrg', 'louisiana blues', 'hip pop',\n",
       "       'mellow gold', 'avant-garde jazz', 'bronx hip hop', 'glam punk',\n",
       "       'german alternative rock', 'acoustic blues', 'alternative rock'],\n",
       "      dtype=object)"
      ]
     },
     "execution_count": 12,
     "metadata": {},
     "output_type": "execute_result"
    }
   ],
   "source": [
    "tg_unique = top_genre.unique()\n",
    "tg_unique"
   ]
  },
  {
   "cell_type": "markdown",
   "metadata": {},
   "source": [
    "We use label encoding technique on genres to transform non-numerical labels  to numerical labels. This is in order for the values to be hashable and comparable. "
   ]
  },
  {
   "cell_type": "code",
   "execution_count": 13,
   "metadata": {},
   "outputs": [
    {
     "name": "stdout",
     "output_type": "stream",
     "text": [
      "[ 1  1  1 68 80  4 24  1 24 68 25 25 82 25 50 39  4 51 68  1 62 24 16  9\n",
      " 56 20  4 51 51 56 14  1 53 51  4 51 62  1 39  1 51 54  4  1 10 52 80 57\n",
      " 36 47  1  4 25  4 48 52 60  4 48 51 58 68 51 51  1  1 10  1  4  1 51 33\n",
      "  4  1 27 51  9 53 51  1 83 80 51 12  8 52 51 32 31 52 25  1  4 68 57  4\n",
      "  4  1  4 25 62  1 18 19 51 36 65 50 72  4 30 51  1 68 47 51  1  8 26 51\n",
      " 43  4 51 77 52 53 32  4  1  1 51  4 62  4 48  1 51  1 28 24 56 68 70 78\n",
      "  4  1 61 51  4  9  4  1  4 51  4  4 68 51  1 36 36  4  4 55  1 46  4 83\n",
      " 25  1 52  1 14  4 51 16 68 51 84  9  4 24 51  4 62  1 14 46 36  2 14  1\n",
      " 43 83 51  1 51 51 81 42 68 47  4 62  4  4 52 44 56 29 56  1  1 58 61 59\n",
      "  4  1  1  4 24 61 79  4 76 52 62 79 56 63 21 51 68 61 42 31 83 51 51 62\n",
      " 51  1  1 30 53 68 60 68 40 68  1 51 32 23  1  4 25 25  1 52 11 60 31 22\n",
      "  4 32 51 14  5  4 25  1 17 66 66 51 73 31  1 78  4 56  1  4 68  9  1 15\n",
      " 61  1 51 61 24 51  4 35 25  4 38 51 51 76  4  1  1  9  1 62 48  7 51 32\n",
      " 49  4  4  1 41  1 36 55 51  1 37  4 10 31 41  4 51 10 19 45  1 62 51 25\n",
      "  1 24 85  3  1 51 62  4 58 53 10  1 69 24 31 80 25 62 74 71  4 31 62 75\n",
      " 57 68  4 51  4 83 51 47 60 52 52 13 80 51  9 21  4 47 34  4  1 51  4 25\n",
      " 31 10 53 67 51  1 52 51  4  4  1  4  1 51 51 52 64 51  4 63 70  4 58 51\n",
      " 51  4  1 40 63  5  4 62  4 34 18  0  1 36 51  6  4  1 51 78 51  1 14  1\n",
      " 25  1 25 51 24  4]\n",
      "      Id                                        title            artist  \\\n",
      "0      1                                 My Happiness    Connie Francis   \n",
      "2      3                        How Deep Is Your Love          Bee Gees   \n",
      "3      4                                Woman in Love  Barbra Streisand   \n",
      "4      5  Goodbye Yellow Brick Road - Remastered 2014        Elton John   \n",
      "5      6                                      Grenade        Bruno Mars   \n",
      "..   ...                                          ...               ...   \n",
      "448  449                               But Not For Me   Ella Fitzgerald   \n",
      "449  450                                    Surf City        Jan & Dean   \n",
      "450  451                                      Dilemma             Nelly   \n",
      "451  452                             It's Gonna Be Me            *NSYNC   \n",
      "452  453                              In The Army Now        Status Quo   \n",
      "\n",
      "              top genre  year  bpm  nrgy  dnce  dB  live  val  dur  acous  \\\n",
      "0       adult standards  1996  107    31    45  -8    13   28  150     75   \n",
      "2       adult standards  1979  105    36    63  -9    13   67  245     11   \n",
      "3       adult standards  1980  170    28    47 -16    13   33  232     25   \n",
      "4             glam rock  1973  121    47    56  -8    15   40  193     45   \n",
      "5                   pop  2010  110    56    71  -7    12   23  223     15   \n",
      "..                  ...   ...  ...   ...   ...  ..   ...  ...  ...    ...   \n",
      "448     adult standards  1959   80    22    18 -17    10   16  214     92   \n",
      "449  brill building pop  2010  148    81    53 -13    23   96  147     50   \n",
      "450           dance pop  2002  168    55    73  -8    20   61  289     23   \n",
      "451            boy band  2000  165    87    64  -5     6   88  191      5   \n",
      "452          album rock  2002  105    73    68  -8    14   94  281     11   \n",
      "\n",
      "     spch  pop  genre  \n",
      "0       3   44      1  \n",
      "2       3   77      1  \n",
      "3       3   67      1  \n",
      "4       3   63     68  \n",
      "5       6   74     80  \n",
      "..    ...  ...    ...  \n",
      "448     4   45      1  \n",
      "449     3   50     25  \n",
      "450    14   77     51  \n",
      "451     8   62     24  \n",
      "452     2   59      4  \n",
      "\n",
      "[438 rows x 16 columns]\n"
     ]
    }
   ],
   "source": [
    "label_enc = LabelEncoder()\n",
    "int_encode = label_enc.fit_transform(top_genre)\n",
    "\n",
    "print(int_encode)\n",
    "\n",
    "data_train1[\"genre\"] = int_encode\n",
    "\n",
    "print(data_train1)"
   ]
  },
  {
   "cell_type": "markdown",
   "metadata": {},
   "source": [
    "#### Separate out the predictors and labels for Machine Learning Algorithms\n",
    "\n",
    "* The target values for this regression problem is the top genre \n",
    "* The other data fields, except of id, title and artist are the attributes that we use to build our models\n",
    "\n",
    "    Splitting the dataset into X_train and y_train:\n",
    "    * X_train corresponds to all attribute values except actual popularity values\n",
    "    * y_train corresponds to actual popularity score values"
   ]
  },
  {
   "cell_type": "code",
   "execution_count": 14,
   "metadata": {},
   "outputs": [],
   "source": [
    "data_train1.values\n",
    "features = [ \"spch\", \"acous\", \"dur\", \"val\", \"live\",\"dB\",\"dnce\",\"nrgy\",\"bpm\",\"genre\"]\n",
    "\n",
    "X_train = data_train1[features].values\n",
    "y_train = data_train1['pop'].values"
   ]
  },
  {
   "cell_type": "markdown",
   "metadata": {},
   "source": [
    "Now, we have a clean and tidy dataset that is ready for analysis."
   ]
  },
  {
   "cell_type": "markdown",
   "metadata": {},
   "source": [
    "### Data Analysis"
   ]
  },
  {
   "cell_type": "markdown",
   "metadata": {},
   "source": [
    "#### Supervised Machine Learning Techniques\n",
    "\n",
    "Various supervised machine learning techniques were carried out in order to determine which one performs better with the provided datasets. The three best performing regression models in the competition are Linear SVR, Polynomial SVR and Random Forest. Therefore, only these three are presented below:"
   ]
  },
  {
   "cell_type": "markdown",
   "metadata": {},
   "source": [
    "#### <u>Model 1: Linear Support Vector Regression (SVR)</u>"
   ]
  },
  {
   "cell_type": "markdown",
   "metadata": {},
   "source": [
    "The first model used, is Linear SVR algorithm, that reverses the objective and is trying to fit as many instances as possible, while is limiting margin violations. Based on the heatmap we understand that there are no linear correlations across features."
   ]
  },
  {
   "cell_type": "code",
   "execution_count": 15,
   "metadata": {},
   "outputs": [
    {
     "name": "stderr",
     "output_type": "stream",
     "text": [
      "/Users/rafaellayerolemou/opt/anaconda3/lib/python3.7/site-packages/sklearn/svm/_base.py:947: ConvergenceWarning: Liblinear failed to converge, increase the number of iterations.\n",
      "  \"the number of iterations.\", ConvergenceWarning)\n"
     ]
    },
    {
     "data": {
      "text/plain": [
       "12.408816015270563"
      ]
     },
     "execution_count": 15,
     "metadata": {},
     "output_type": "execute_result"
    }
   ],
   "source": [
    "std_scaler = StandardScaler()\n",
    "min_max = MinMaxScaler()\n",
    "y_train1 = y_train.reshape(-1,1)\n",
    "X_normalized = preprocessing.normalize(X_train)\n",
    "Y_normalized = preprocessing.normalize(y_train1)\n",
    "X_trn_scl = min_max.fit_transform(X_train)\n",
    "\n",
    "y_trn_scl = min_max.fit_transform(y_train1)\n",
    "\n",
    "svm_reg = LinearSVR(epsilon=8, random_state=42) # Can explore impact of epsilon\n",
    "svm_reg.fit(X_train, y_train)\n",
    "\n",
    "data_train_preds = svm_reg.predict(X_train) # Check fit\n",
    "\n",
    "lin_mse = mean_squared_error(y_train, data_train_preds)\n",
    "lin_rmse = np.sqrt(lin_mse)\n",
    "lin_rmse"
   ]
  },
  {
   "cell_type": "markdown",
   "metadata": {},
   "source": [
    "* The Root Mean Square Error (RMSE) is used to determine whether the model performs well with the training data. If the RMSE value is low enough we can carry on to the test set.\n",
    "* The RMSE value for the Linear SVR is 12"
   ]
  },
  {
   "cell_type": "markdown",
   "metadata": {},
   "source": [
    "#### <u>Plotting Results</u>"
   ]
  },
  {
   "cell_type": "code",
   "execution_count": 16,
   "metadata": {},
   "outputs": [
    {
     "data": {
      "image/png": "[encoded data removed]",
      "text/plain": [
       "<Figure size 432x288 with 1 Axes>"
      ]
     },
     "metadata": {
      "needs_background": "light"
     },
     "output_type": "display_data"
    }
   ],
   "source": [
    "plt.scatter(y_train, data_train_preds, color = 'salmon')\n",
    "m1,b1 = np.polyfit(y_train,data_train_preds,1)\n",
    "x = data_train['pop']\n",
    "plt.plot(y_train,m1*x + b1)\n",
    "\n",
    "plt.title('Popularity (Linear Support Vector Regression model)')\n",
    "plt.xlabel('Training popularity')\n",
    "plt.ylabel('Predicted Popularity')\n",
    "plt.show()"
   ]
  },
  {
   "cell_type": "markdown",
   "metadata": {},
   "source": [
    "From the above graph, we can see the actual and predicted popularity for a song. A line of best fit is also drawn, showing the density of the points. The points near the line of best fit, shows the Linear SVR model that can be used to achieve a high accuracy in popularity prediction for a song."
   ]
  },
  {
   "cell_type": "markdown",
   "metadata": {},
   "source": [
    "#### <u>Model 2: Polynomial Support Vector Regression (SVR)</u>"
   ]
  },
  {
   "cell_type": "markdown",
   "metadata": {},
   "source": [
    "The second model used, is Polynomial SVR algorithm, which is taking the data as an input and transform it into the required form. Especially, in kernel parameter returns the inner product between the two points in a suitable feature space. Based on the heatmap we understand that there are no linear correlations across features, that is why we have selected a non-linear model like Polynomial SVR."
   ]
  },
  {
   "cell_type": "code",
   "execution_count": 17,
   "metadata": {},
   "outputs": [
    {
     "data": {
      "text/plain": [
       "10.617202497744406"
      ]
     },
     "execution_count": 17,
     "metadata": {},
     "output_type": "execute_result"
    }
   ],
   "source": [
    "#explore use of polynomial kernels\n",
    "\n",
    "svm_poly_reg = SVR(kernel=\"poly\", degree=2, C=100, epsilon=0.1, gamma=\"scale\")\n",
    "svm_poly_reg.fit(X_train, y_train)\n",
    "\n",
    "data_poly_train_preds = svm_poly_reg.predict(X_train) # Check fit\n",
    "\n",
    "lin_mse = mean_squared_error(y_train, data_poly_train_preds)\n",
    "lin_rmse = np.sqrt(lin_mse)\n",
    "lin_rmse"
   ]
  },
  {
   "cell_type": "markdown",
   "metadata": {},
   "source": [
    "* The RMSE value for the Polynomial SVR is 10"
   ]
  },
  {
   "cell_type": "markdown",
   "metadata": {},
   "source": [
    "#### <u>Model 3: Random Forest</u>"
   ]
  },
  {
   "cell_type": "markdown",
   "metadata": {},
   "source": [
    "The third model used, is Random Forest algorithm, that randomly generates many decision trees to explain the variance observed in random subsections of the data."
   ]
  },
  {
   "cell_type": "code",
   "execution_count": 18,
   "metadata": {},
   "outputs": [
    {
     "data": {
      "text/plain": [
       "10.147072660163552"
      ]
     },
     "execution_count": 18,
     "metadata": {},
     "output_type": "execute_result"
    }
   ],
   "source": [
    "rand_reg = RandomForestRegressor(max_depth=2, random_state=0)  #Creating the Random Forest model\n",
    "\n",
    "rand_reg.fit(X_train, y_train) #fit\n",
    "\n",
    "y_pred = rand_reg.predict(X_train) #predict\n",
    "\n",
    "#MSE and RMSE calculations\n",
    "rand_mse = mean_squared_error(y_train, y_pred)\n",
    "rand_rmse = np.sqrt(rand_mse)\n",
    "rand_rmse"
   ]
  },
  {
   "cell_type": "markdown",
   "metadata": {},
   "source": [
    "* The RMSE value for the Random Forest regression is 10."
   ]
  },
  {
   "cell_type": "markdown",
   "metadata": {},
   "source": [
    "### Valuation of the Analysis"
   ]
  },
  {
   "cell_type": "markdown",
   "metadata": {},
   "source": [
    "#### Evaluation on test set"
   ]
  },
  {
   "cell_type": "code",
   "execution_count": 19,
   "metadata": {},
   "outputs": [],
   "source": [
    "#loading the test dataset\n",
    "\n",
    "data_test = pd.read_csv('CS98XRegressionTest.csv')"
   ]
  },
  {
   "cell_type": "markdown",
   "metadata": {},
   "source": [
    "Then we proceed to cleaning and preparing the test dataset in the same way as we did for the train dataset"
   ]
  },
  {
   "cell_type": "code",
   "execution_count": 20,
   "metadata": {},
   "outputs": [],
   "source": [
    "#fill n/a values in genres with other\n",
    "\n",
    "data_test[\"top genre\"].fillna(\"Other\", inplace = True)\n",
    "top_genre = data_test[\"top genre\"]"
   ]
  },
  {
   "cell_type": "code",
   "execution_count": 21,
   "metadata": {},
   "outputs": [
    {
     "name": "stdout",
     "output_type": "stream",
     "text": [
      "[21 32 32  9  5 21  1  1 36  2 13  7  1  1 21  2 14 16 21 21 34  1  1  1\n",
      " 20  2 16  1 13 33 21  1 32 21 21 30 21  1 28 38 21  2  2 13  3 13 32 27\n",
      "  6  2 11 32 22  1 36 18  2  1 21  8  1  1 39 25 27 16  0  1 29 19 21  1\n",
      "  1 29  1 15 16 29  2 18  4 32  3 32  6 10 16 21  1  1  1 37 22 24 36 17\n",
      " 25  1  1  1  2 12  2  1 23  2 21 26 35 27 16 27 25 31]\n"
     ]
    }
   ],
   "source": [
    "#execute the label encoding for genre\n",
    "\n",
    "label_enc = LabelEncoder()\n",
    "int_encode = label_enc.fit_transform(top_genre)\n",
    "\n",
    "print(int_encode)\n",
    "\n",
    "data_test[\"genre\"] = int_encode"
   ]
  },
  {
   "cell_type": "code",
   "execution_count": 22,
   "metadata": {},
   "outputs": [
    {
     "name": "stdout",
     "output_type": "stream",
     "text": [
      "[[ 18   1 213 ...  93 154  21]\n",
      " [  3  26 292 ...  39 161  32]\n",
      " [  3  38 179 ...  46  64  32]\n",
      " ...\n",
      " [ 27  43 253 ...  58  84  27]\n",
      " [ 14   6 287 ...  97 127  25]\n",
      " [  3   8 249 ...  89 123  31]]\n"
     ]
    }
   ],
   "source": [
    "#preparing the data\n",
    "\n",
    "data_test.values\n",
    "features = [ \"spch\", \"acous\", \"dur\", \"val\", \"live\",\"dB\",\"dnce\",\"nrgy\",\"bpm\",\"genre\"]\n",
    "X_test = data_test[features].values\n",
    "\n",
    "print(X_test)"
   ]
  },
  {
   "cell_type": "markdown",
   "metadata": {},
   "source": [
    "#### Extracting prediction values for each prediction model to .csv files, so that they can be submitted to the Kaggle competition"
   ]
  },
  {
   "cell_type": "code",
   "execution_count": 23,
   "metadata": {},
   "outputs": [],
   "source": [
    "# prediction for the random forest regression\n",
    "\n",
    "data_randreg_test_preds = rand_reg.predict(X_test)\n",
    "\n",
    "#export the predictions in the csv files for kaggle:\n",
    "\n",
    "randreg_model=pd.DataFrame(data_randreg_test_preds).set_index(data_test['Id']).rename(columns={0:'pop'}).to_csv('upload_regression_randreg_02.csv')"
   ]
  },
  {
   "cell_type": "markdown",
   "metadata": {},
   "source": [
    "* The Kaggle score for Random Forest Regression model is 9.397\n",
    "* The Kaggle scores for Linear and Polynomial SVR models, are 11.15 and 9.714 respectively"
   ]
  },
  {
   "cell_type": "markdown",
   "metadata": {},
   "source": [
    "The scores from the training and test set are quite similar. The selected model was the Random Forest Regression for the reason that has a better RMSE score and performs the best. "
   ]
  }
 ],
 "metadata": {
  "kernelspec": {
   "display_name": "Python 3",
   "language": "python",
   "name": "python3"
  },
  "language_info": {
   "codemirror_mode": {
    "name": "ipython",
    "version": 3
   },
   "file_extension": ".py",
   "mimetype": "text/x-python",
   "name": "python",
   "nbconvert_exporter": "python",
   "pygments_lexer": "ipython3",
   "version": "3.7.6"
  }
 },
 "nbformat": 4,
 "nbformat_minor": 4
}
